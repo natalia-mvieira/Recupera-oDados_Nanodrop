{
  "cells": [
    {
      "cell_type": "markdown",
      "metadata": {
        "id": "view-in-github",
        "colab_type": "text"
      },
      "source": [
        "<a href=\"https://colab.research.google.com/github/natalia-mvieira/RecuperacaoDados_Nanodrop/blob/main/Sele%C3%A7%C3%A3o_do_Comprimento_de_Onda_no_Espectro_NanoDrop.ipynb\" target=\"_parent\"><img src=\"https://colab.research.google.com/assets/colab-badge.svg\" alt=\"Open In Colab\"/></a>"
      ]
    },
    {
      "cell_type": "code",
      "execution_count": null,
      "id": "e414b946",
      "metadata": {
        "id": "e414b946",
        "outputId": "077caaeb-7820-4233-ff96-0b0d5d1095f1"
      },
      "outputs": [
        {
          "data": {
            "text/html": [
              "<div>\n",
              "<style scoped>\n",
              "    .dataframe tbody tr th:only-of-type {\n",
              "        vertical-align: middle;\n",
              "    }\n",
              "\n",
              "    .dataframe tbody tr th {\n",
              "        vertical-align: top;\n",
              "    }\n",
              "\n",
              "    .dataframe thead th {\n",
              "        text-align: right;\n",
              "    }\n",
              "</style>\n",
              "<table border=\"1\" class=\"dataframe\">\n",
              "  <thead>\n",
              "    <tr style=\"text-align: right;\">\n",
              "      <th></th>\n",
              "      <th>Data</th>\n",
              "      <th>Dose (J)</th>\n",
              "      <th>abs</th>\n",
              "    </tr>\n",
              "  </thead>\n",
              "  <tbody>\n",
              "    <tr>\n",
              "      <th>0</th>\n",
              "      <td>19/01</td>\n",
              "      <td>0</td>\n",
              "      <td>0.023</td>\n",
              "    </tr>\n",
              "    <tr>\n",
              "      <th>1</th>\n",
              "      <td>19/01</td>\n",
              "      <td>0</td>\n",
              "      <td>0.024</td>\n",
              "    </tr>\n",
              "    <tr>\n",
              "      <th>2</th>\n",
              "      <td>19/01</td>\n",
              "      <td>0</td>\n",
              "      <td>0.027</td>\n",
              "    </tr>\n",
              "    <tr>\n",
              "      <th>3</th>\n",
              "      <td>19/01</td>\n",
              "      <td>0</td>\n",
              "      <td>0.027</td>\n",
              "    </tr>\n",
              "    <tr>\n",
              "      <th>4</th>\n",
              "      <td>19/01</td>\n",
              "      <td>100</td>\n",
              "      <td>0.014</td>\n",
              "    </tr>\n",
              "    <tr>\n",
              "      <th>...</th>\n",
              "      <td>...</td>\n",
              "      <td>...</td>\n",
              "      <td>...</td>\n",
              "    </tr>\n",
              "    <tr>\n",
              "      <th>570</th>\n",
              "      <td>16/02</td>\n",
              "      <td>100</td>\n",
              "      <td>2.719</td>\n",
              "    </tr>\n",
              "    <tr>\n",
              "      <th>571</th>\n",
              "      <td>16/02</td>\n",
              "      <td>0</td>\n",
              "      <td>3.054</td>\n",
              "    </tr>\n",
              "    <tr>\n",
              "      <th>572</th>\n",
              "      <td>16/02</td>\n",
              "      <td>0</td>\n",
              "      <td>2.938</td>\n",
              "    </tr>\n",
              "    <tr>\n",
              "      <th>573</th>\n",
              "      <td>16/02</td>\n",
              "      <td>0</td>\n",
              "      <td>3.016</td>\n",
              "    </tr>\n",
              "    <tr>\n",
              "      <th>574</th>\n",
              "      <td>16/02</td>\n",
              "      <td>0</td>\n",
              "      <td>2.795</td>\n",
              "    </tr>\n",
              "  </tbody>\n",
              "</table>\n",
              "<p>575 rows × 3 columns</p>\n",
              "</div>"
            ],
            "text/plain": [
              "      Data Dose (J)    abs\n",
              "0    19/01        0  0.023\n",
              "1    19/01        0  0.024\n",
              "2    19/01        0  0.027\n",
              "3    19/01        0  0.027\n",
              "4    19/01      100  0.014\n",
              "..     ...      ...    ...\n",
              "570  16/02      100  2.719\n",
              "571  16/02        0  3.054\n",
              "572  16/02        0  2.938\n",
              "573  16/02        0  3.016\n",
              "574  16/02        0  2.795\n",
              "\n",
              "[575 rows x 3 columns]"
            ]
          },
          "metadata": {},
          "output_type": "display_data"
        }
      ],
      "source": [
        "import pandas as pd\n",
        "from pathlib import Path\n",
        "\n",
        "caminho = Path(r'') #insiro o caminho da pasta contendo os espectros\n",
        "planilhas = caminho.iterdir()\n",
        "data = []\n",
        "dose = []\n",
        "abss = []\n",
        "tabela = pd.DataFrame()\n",
        "for planilha in planilhas:\n",
        "    xl = pd.ExcelFile(r'{}'.format(planilha)) #planilha deve estar no formato \"Planilha de trabalho Excel\"\n",
        "    res = len(xl.sheet_names)\n",
        "    num_paginas = list(range(1,res))\n",
        "    for i in num_paginas:\n",
        "        arquivo = pd.read_excel(r'{}'.format(planilha), '{}'.format(i))\n",
        "        arquivo['Title'] = arquivo['Title'].astype('str')\n",
        "        arquivo['Wavelength (nm)'] = arquivo['Wavelength (nm)'].astype('str')\n",
        "        ciano = arquivo['Title'][0][:3]\n",
        "        if ciano != '230': #busco pelo código 230, que identifica uma das espécies. O mesmo foi feito para 159 e 163.\n",
        "            pass\n",
        "        else:\n",
        "            dia_mes = str(arquivo['Time'][0])\n",
        "            data.append(dia_mes[:5])\n",
        "            titulo = arquivo['Title'][0].split()\n",
        "            dose.append(titulo[1])\n",
        "            abss.append(arquivo['10mm Absorbance'][560]) #pega OD em 750nm, 560 é a linha na planilha onde está esse comprimento de onda.\n",
        "tabela['Data'] = pd.DataFrame(data)\n",
        "tabela['Dose (J)'] = pd.DataFrame(dose)\n",
        "tabela['abs'] = pd.DataFrame(abss)\n",
        "display(tabela)\n"
      ]
    },
    {
      "cell_type": "code",
      "execution_count": null,
      "id": "b1229629",
      "metadata": {
        "id": "b1229629"
      },
      "outputs": [],
      "source": [
        "tabela.to_excel(r'Radiação 230.xlsx')"
      ]
    }
  ],
  "metadata": {
    "kernelspec": {
      "display_name": "Python 3 (ipykernel)",
      "language": "python",
      "name": "python3"
    },
    "language_info": {
      "codemirror_mode": {
        "name": "ipython",
        "version": 3
      },
      "file_extension": ".py",
      "mimetype": "text/x-python",
      "name": "python",
      "nbconvert_exporter": "python",
      "pygments_lexer": "ipython3",
      "version": "3.8.3"
    },
    "colab": {
      "provenance": [],
      "include_colab_link": true
    }
  },
  "nbformat": 4,
  "nbformat_minor": 5
}